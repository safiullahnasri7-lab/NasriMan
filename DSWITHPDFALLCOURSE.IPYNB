{
 "cells": [
  {
   "cell_type": "code",
   "execution_count": null,
   "id": "96ac33a6",
   "metadata": {},
   "outputs": [
    {
     "name": "stdout",
     "output_type": "stream",
     "text": [
      "Hello world\n"
     ]
    }
   ],
   "source": [
    "# print(\"Hello world\")"
   ]
  },
  {
   "cell_type": "code",
   "execution_count": null,
   "id": "cc8cd386",
   "metadata": {},
   "outputs": [],
   "source": [
    "# https://people.engr.tamu.edu/guni/csce625/slides/AI.pdf\n",
    "# https://people.smp.uq.edu.au/DirkKroese/DSML/DSML.pdf\n",
    "# https://soclibrary.futa.edu.ng/books/Practical%20Data%20Science%20with%20Python%20(Nathan%20George)%20(Z-Library).pdf\n",
    "# ata.gov\n",
    "# https://course.spacy.io/en/\n",
    "# https://artint.info/2e/html/ArtInt2e.html\n",
    "# https://par.nsf.gov/servlets/purl/10094086\n",
    "# https://escholarship.org/uc/item/0r27j85x\n",
    "# https://www.datasciencepm.com/\n",
    "# https://www.the-modeling-agency.com/crisp-dm.pdf\n",
    "# Ahttps://docs.microsoft.com/en-us/azure/machinelearning/team-data-science-process/overview\n"
   ]
  },
  {
   "cell_type": "code",
   "execution_count": 1,
   "id": "4a9f623e",
   "metadata": {},
   "outputs": [
    {
     "name": "stdout",
     "output_type": "stream",
     "text": [
      "Hello world\n"
     ]
    }
   ],
   "source": [
    "print(\"Hello world\")\n",
    "import pandas as pd\n",
    "import numpy as np\n",
    "import matplotlib.pyplot as plt"
   ]
  },
  {
   "cell_type": "code",
   "execution_count": null,
   "id": "588f300a",
   "metadata": {},
   "outputs": [],
   "source": []
  }
 ],
 "metadata": {
  "kernelspec": {
   "display_name": "Python 3",
   "language": "python",
   "name": "python3"
  },
  "language_info": {
   "codemirror_mode": {
    "name": "ipython",
    "version": 3
   },
   "file_extension": ".py",
   "mimetype": "text/x-python",
   "name": "python",
   "nbconvert_exporter": "python",
   "pygments_lexer": "ipython3",
   "version": "3.13.5"
  }
 },
 "nbformat": 4,
 "nbformat_minor": 5
}
