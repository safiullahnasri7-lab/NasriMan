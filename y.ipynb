{
 "cells": [
  {
   "cell_type": "code",
   "execution_count": 13,
   "id": "d64008e4",
   "metadata": {},
   "outputs": [
    {
     "name": "stdout",
     "output_type": "stream",
     "text": [
      "kamal\n"
     ]
    }
   ],
   "source": [
    "print(\"kamal\")"
   ]
  },
  {
   "cell_type": "code",
   "execution_count": 14,
   "id": "00f92c39",
   "metadata": {},
   "outputs": [],
   "source": [
    "def printMsg(msg):\n",
    "    if isinstance(msg, 'str'):\n",
    "        print(msg)\n",
    "    else:\n",
    "        print(\"your input argument is not a string\")"
   ]
  },
  {
   "cell_type": "code",
   "execution_count": null,
   "id": "b4024817",
   "metadata": {},
   "outputs": [
    {
     "name": "stdout",
     "output_type": "stream",
     "text": [
      "age is  21\n",
      "Safiullah\n",
      "AI Engineer\n"
     ]
    }
   ],
   "source": [
    "def f(a,b,c):\n",
    "    print(\"age is \" , a)\n",
    "    print(\"name is \", b)\n",
    "    print(\"field is \",  c)\n",
    "f(\"\"21, \"Safiullah\", \"AI Engineer\")"
   ]
  },
  {
   "cell_type": "code",
   "execution_count": null,
   "id": "0075a3d2",
   "metadata": {},
   "outputs": [],
   "source": []
  }
 ],
 "metadata": {
  "kernelspec": {
   "display_name": "Python 3",
   "language": "python",
   "name": "python3"
  },
  "language_info": {
   "codemirror_mode": {
    "name": "ipython",
    "version": 3
   },
   "file_extension": ".py",
   "mimetype": "text/x-python",
   "name": "python",
   "nbconvert_exporter": "python",
   "pygments_lexer": "ipython3",
   "version": "3.13.5"
  }
 },
 "nbformat": 4,
 "nbformat_minor": 5
}
